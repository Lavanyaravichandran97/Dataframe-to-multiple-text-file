{
 "cells": [
  {
   "cell_type": "code",
   "execution_count": 1,
   "metadata": {},
   "outputs": [
    {
     "data": {
      "text/html": [
       "<div>\n",
       "<style scoped>\n",
       "    .dataframe tbody tr th:only-of-type {\n",
       "        vertical-align: middle;\n",
       "    }\n",
       "\n",
       "    .dataframe tbody tr th {\n",
       "        vertical-align: top;\n",
       "    }\n",
       "\n",
       "    .dataframe thead th {\n",
       "        text-align: right;\n",
       "    }\n",
       "</style>\n",
       "<table border=\"1\" class=\"dataframe\">\n",
       "  <thead>\n",
       "    <tr style=\"text-align: right;\">\n",
       "      <th></th>\n",
       "      <th>title</th>\n",
       "      <th>text</th>\n",
       "      <th>prediction</th>\n",
       "    </tr>\n",
       "  </thead>\n",
       "  <tbody>\n",
       "    <tr>\n",
       "      <th>0</th>\n",
       "      <td>Ad sales boost Time Warner profit</td>\n",
       "      <td>Quarterly profits at US media giant TimeWarn...</td>\n",
       "      <td>business</td>\n",
       "    </tr>\n",
       "    <tr>\n",
       "      <th>1</th>\n",
       "      <td>Jarre joins fairytale celebration</td>\n",
       "      <td>French musician Jean-Michel Jarre is to perf...</td>\n",
       "      <td>entertainment</td>\n",
       "    </tr>\n",
       "    <tr>\n",
       "      <th>2</th>\n",
       "      <td>Hewitt decries 'career sexism'</td>\n",
       "      <td>Plans to extend paid maternity leave beyond ...</td>\n",
       "      <td>politics</td>\n",
       "    </tr>\n",
       "    <tr>\n",
       "      <th>3</th>\n",
       "      <td>IAAF launches fight against drugs</td>\n",
       "      <td>The IAAF - athletics' world governing body -...</td>\n",
       "      <td>sport</td>\n",
       "    </tr>\n",
       "    <tr>\n",
       "      <th>4</th>\n",
       "      <td>Technology gets the creative bug</td>\n",
       "      <td>The hi-tech and the arts worlds have for som...</td>\n",
       "      <td>tech</td>\n",
       "    </tr>\n",
       "  </tbody>\n",
       "</table>\n",
       "</div>"
      ],
      "text/plain": [
       "                               title  \\\n",
       "0  Ad sales boost Time Warner profit   \n",
       "1  Jarre joins fairytale celebration   \n",
       "2     Hewitt decries 'career sexism'   \n",
       "3  IAAF launches fight against drugs   \n",
       "4   Technology gets the creative bug   \n",
       "\n",
       "                                                text     prediction  \n",
       "0    Quarterly profits at US media giant TimeWarn...       business  \n",
       "1    French musician Jean-Michel Jarre is to perf...  entertainment  \n",
       "2    Plans to extend paid maternity leave beyond ...       politics  \n",
       "3    The IAAF - athletics' world governing body -...          sport  \n",
       "4    The hi-tech and the arts worlds have for som...           tech  "
      ]
     },
     "execution_count": 1,
     "metadata": {},
     "output_type": "execute_result"
    }
   ],
   "source": [
    "import pandas as pd\n",
    "dtf= pd.read_csv('E:\\\\Data science\\\\AV\\\\bbc txt classification\\\\dataframe.csv')\n",
    "dtf.head()"
   ]
  },
  {
   "cell_type": "code",
   "execution_count": 2,
   "metadata": {},
   "outputs": [],
   "source": [
    "tech=dtf[dtf['prediction']=='tech']\n",
    "politics=dtf[dtf['prediction']=='politics']\n",
    "sports=dtf[dtf['prediction']=='sport']\n",
    "business=dtf[dtf['prediction']=='business']\n",
    "entertainment=dtf[dtf['prediction']=='entertainment']"
   ]
  },
  {
   "cell_type": "markdown",
   "metadata": {},
   "source": [
    "We need to create five folders named business, entertainment, politics, sport and tech. Give this directory in the below code."
   ]
  },
  {
   "cell_type": "code",
   "execution_count": 3,
   "metadata": {},
   "outputs": [],
   "source": [
    "import numpy as np\n",
    "labels=['business','sports','tech','politics','entertainment']\n",
    "lab=[business,sports,tech,politics,entertainment]\n",
    "for i,j in zip(labels,lab):\n",
    "    rows= range(0,len(j))\n",
    "    for k in rows:\n",
    "        np.savetxt(r'E:\\Data science\\AV\\bbc txt classification\\classified\\%s\\np%d.txt' %(i,k),['%s'] %j.values[k],fmt='%s',encoding=None)"
   ]
  }
 ],
 "metadata": {
  "kernelspec": {
   "display_name": "Python 3",
   "language": "python",
   "name": "python3"
  },
  "language_info": {
   "codemirror_mode": {
    "name": "ipython",
    "version": 3
   },
   "file_extension": ".py",
   "mimetype": "text/x-python",
   "name": "python",
   "nbconvert_exporter": "python",
   "pygments_lexer": "ipython3",
   "version": "3.6.10"
  }
 },
 "nbformat": 4,
 "nbformat_minor": 4
}
